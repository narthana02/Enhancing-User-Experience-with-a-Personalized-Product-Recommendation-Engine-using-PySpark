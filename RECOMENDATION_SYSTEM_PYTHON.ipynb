{
  "cells": [
    {
      "cell_type": "markdown",
      "source": [
        "**ML ALGORITHM IN PYTHON**"
      ],
      "metadata": {
        "id": "tEjtEep8YCxS"
      }
    },
    {
      "cell_type": "code",
      "execution_count": null,
      "metadata": {
        "colab": {
          "base_uri": "https://localhost:8080/"
        },
        "id": "pY7rZHX75dNQ",
        "outputId": "2a6b24a9-3741-4177-9b66-b2a711845e61"
      },
      "outputs": [
        {
          "output_type": "stream",
          "name": "stdout",
          "text": [
            "Collecting scikit-surprise\n",
            "  Downloading scikit-surprise-1.1.3.tar.gz (771 kB)\n",
            "\u001b[2K     \u001b[90m━━━━━━━━━━━━━━━━━━━━━━━━━━━━━━━━━━━━━━\u001b[0m \u001b[32m772.0/772.0 kB\u001b[0m \u001b[31m13.8 MB/s\u001b[0m eta \u001b[36m0:00:00\u001b[0m\n",
            "\u001b[?25h  Preparing metadata (setup.py) ... \u001b[?25l\u001b[?25hdone\n",
            "Requirement already satisfied: joblib>=1.0.0 in /usr/local/lib/python3.10/dist-packages (from scikit-surprise) (1.3.1)\n",
            "Requirement already satisfied: numpy>=1.17.3 in /usr/local/lib/python3.10/dist-packages (from scikit-surprise) (1.22.4)\n",
            "Requirement already satisfied: scipy>=1.3.2 in /usr/local/lib/python3.10/dist-packages (from scikit-surprise) (1.10.1)\n",
            "Building wheels for collected packages: scikit-surprise\n",
            "  Building wheel for scikit-surprise (setup.py) ... \u001b[?25l\u001b[?25hdone\n",
            "  Created wheel for scikit-surprise: filename=scikit_surprise-1.1.3-cp310-cp310-linux_x86_64.whl size=3097758 sha256=88d5d023ba173c37f6fb021ea584cd1229d444d85b58d3ce0be5d494db23184d\n",
            "  Stored in directory: /root/.cache/pip/wheels/a5/ca/a8/4e28def53797fdc4363ca4af740db15a9c2f1595ebc51fb445\n",
            "Successfully built scikit-surprise\n",
            "Installing collected packages: scikit-surprise\n",
            "Successfully installed scikit-surprise-1.1.3\n"
          ]
        }
      ],
      "source": [
        "                                                                                                                                                                                                                  !pip install scikit-surprise\n"
      ]
    },
    {
      "cell_type": "code",
      "source": [
        "import pandas as pd\n",
        "\n",
        "# Read the CSV file\n",
        "data_df = pd.read_csv('/content/book_ratings.csv')\n",
        "\n",
        "# Print the number of rows and columns\n",
        "num_rows, num_cols = data_df.shape\n",
        "print(\"Number of rows:\", num_rows)\n",
        "print(\"Number of columns:\", num_cols)\n"
      ],
      "metadata": {
        "colab": {
          "base_uri": "https://localhost:8080/"
        },
        "id": "TTRRbbzec-em",
        "outputId": "b43d4606-ee47-4744-aec6-cf8e86cb1b26"
      },
      "execution_count": null,
      "outputs": [
        {
          "output_type": "stream",
          "name": "stdout",
          "text": [
            "Number of rows: 981756\n",
            "Number of columns: 3\n"
          ]
        }
      ]
    },
    {
      "cell_type": "markdown",
      "source": [
        "**collaborative filtering**"
      ],
      "metadata": {
        "id": "Rt1m9-2ScmF_"
      }
    },
    {
      "cell_type": "code",
      "source": [
        "import pandas as pd\n",
        "from surprise import Dataset, Reader, KNNBasic\n",
        "from surprise.model_selection import train_test_split\n",
        "from surprise import accuracy\n",
        "\n",
        "# Read the CSV file\n",
        "data_df = pd.read_csv('/content/book_ratings.csv')\n",
        "\n",
        "# Limit the dataset to the first 100,000 ratings\n",
        "data_df = data_df.head(100000)\n",
        "\n",
        "# Define the reader\n",
        "reader = Reader(rating_scale=(1, 5))\n",
        "\n",
        "# Load the dataset\n",
        "data = Dataset.load_from_df(data_df[['user_id', 'book_id', 'rating']], reader)\n",
        "\n",
        "# Train-test split\n",
        "trainset, testset = train_test_split(data, test_size=0.2)\n",
        "\n",
        "# Train the model\n",
        "model = KNNBasic()\n",
        "model.fit(trainset)\n",
        "\n",
        "# Predict ratings for the test set\n",
        "predictions = model.test(testset)\n",
        "\n",
        "# Calculate RMSE and MAE\n",
        "rmse = accuracy.rmse(predictions)\n",
        "mae = accuracy.mae(predictions)\n",
        "\n",
        "print(\"RMSE:\", rmse)\n",
        "print(\"MAE:\", mae)\n",
        "\n",
        "# Predict ratings for a specific user\n",
        "user_id = '5461'\n",
        "predictions = []\n",
        "for item_id in range(1, 1001):  # Assuming you have 1000 products\n",
        "    predicted_rating = model.predict(user_id, str(item_id)).est\n",
        "    predictions.append((item_id, predicted_rating))\n",
        "\n",
        "# Sort the predictions by rating in descending order\n",
        "predictions.sort(key=lambda x: x[1], reverse=True)\n",
        "\n",
        "# Get the top N recommendations\n",
        "top_n = 10\n",
        "recommended_items = predictions[:top_n]\n",
        "\n",
        "# Print the recommendations\n",
        "print(f\"Top {top_n} recommended items for user {user_id}:\")\n",
        "for item_id, rating in recommended_items:\n",
        "    print(f\"Product ID: {item_id}, Rating: {rating}\")\n"
      ],
      "metadata": {
        "colab": {
          "base_uri": "https://localhost:8080/"
        },
        "id": "FpNr9f3SbTxm",
        "outputId": "d89b4ce6-5612-4f80-b96c-13f245cfda32"
      },
      "execution_count": null,
      "outputs": [
        {
          "output_type": "stream",
          "name": "stdout",
          "text": [
            "Computing the msd similarity matrix...\n",
            "Done computing similarity matrix.\n",
            "RMSE: 0.9391\n",
            "MAE:  0.7485\n",
            "RMSE: 0.9391334546233476\n",
            "MAE: 0.7485314800124443\n",
            "Top 10 recommended items for user 5461:\n",
            "Product ID: 1, Rating: 3.8132875\n",
            "Product ID: 2, Rating: 3.8132875\n",
            "Product ID: 3, Rating: 3.8132875\n",
            "Product ID: 4, Rating: 3.8132875\n",
            "Product ID: 5, Rating: 3.8132875\n",
            "Product ID: 6, Rating: 3.8132875\n",
            "Product ID: 7, Rating: 3.8132875\n",
            "Product ID: 8, Rating: 3.8132875\n",
            "Product ID: 9, Rating: 3.8132875\n",
            "Product ID: 10, Rating: 3.8132875\n"
          ]
        }
      ]
    },
    {
      "cell_type": "code",
      "source": [
        "import pandas as pd\n",
        "from surprise import Dataset, Reader, KNNBasic\n",
        "from surprise.model_selection import train_test_split\n",
        "from surprise import accuracy\n",
        "\n",
        "# Read the CSV file\n",
        "data_df = pd.read_csv('/content/book_ratings.csv')\n",
        "\n",
        "# Limit the dataset to the first 200,000 ratings\n",
        "data_df = data_df.head(200000)\n",
        "\n",
        "# Define the reader\n",
        "reader = Reader(rating_scale=(1, 5))\n",
        "\n",
        "# Load the dataset\n",
        "data = Dataset.load_from_df(data_df[['user_id', 'book_id', 'rating']], reader)\n",
        "\n",
        "# Train-test split\n",
        "trainset, testset = train_test_split(data, test_size=0.2)\n",
        "\n",
        "# Train the model\n",
        "model = KNNBasic()\n",
        "model.fit(trainset)\n",
        "\n",
        "# Predict ratings for the test set\n",
        "predictions = model.test(testset)\n",
        "\n",
        "# Calculate RMSE and MAE\n",
        "rmse = accuracy.rmse(predictions)\n",
        "mae = accuracy.mae(predictions)\n",
        "\n",
        "print(\"RMSE:\", rmse)\n",
        "print(\"MAE:\", mae)\n",
        "\n",
        "# Predict ratings for a specific user\n",
        "user_id = '5461'\n",
        "predictions = []\n",
        "for item_id in range(1, 1001):  # Assuming you have 1000 products\n",
        "    predicted_rating = model.predict(user_id, str(item_id)).est\n",
        "    predictions.append((item_id, predicted_rating))\n",
        "\n",
        "# Sort the predictions by rating in descending order\n",
        "predictions.sort(key=lambda x: x[1], reverse=True)\n",
        "\n",
        "# Get the top N recommendations\n",
        "top_n = 10\n",
        "recommended_items = predictions[:top_n]\n",
        "\n",
        "# Print the recommendations\n",
        "print(f\"Top {top_n} recommended items for user {user_id}:\")\n",
        "for item_id, rating in recommended_items:\n",
        "    print(f\"Product ID: {item_id}, Rating: {rating}\")"
      ],
      "metadata": {
        "colab": {
          "base_uri": "https://localhost:8080/"
        },
        "id": "78sqoaf8bmYR",
        "outputId": "c1c6b87e-e740-44a7-8852-f6c5b6f6e6b6"
      },
      "execution_count": null,
      "outputs": [
        {
          "output_type": "stream",
          "name": "stdout",
          "text": [
            "Computing the msd similarity matrix...\n",
            "Done computing similarity matrix.\n",
            "RMSE: 0.9278\n",
            "MAE:  0.7321\n",
            "RMSE: 0.9277521517231166\n",
            "MAE: 0.7321479680885022\n",
            "Top 10 recommended items for user 5461:\n",
            "Product ID: 1, Rating: 3.822575\n",
            "Product ID: 2, Rating: 3.822575\n",
            "Product ID: 3, Rating: 3.822575\n",
            "Product ID: 4, Rating: 3.822575\n",
            "Product ID: 5, Rating: 3.822575\n",
            "Product ID: 6, Rating: 3.822575\n",
            "Product ID: 7, Rating: 3.822575\n",
            "Product ID: 8, Rating: 3.822575\n",
            "Product ID: 9, Rating: 3.822575\n",
            "Product ID: 10, Rating: 3.822575\n"
          ]
        }
      ]
    },
    {
      "cell_type": "code",
      "source": [
        "import pandas as pd\n",
        "from surprise import Dataset, Reader, KNNBasic\n",
        "from surprise.model_selection import train_test_split\n",
        "from surprise import accuracy\n",
        "\n",
        "# Read the CSV file\n",
        "data_df = pd.read_csv('/content/book_ratings.csv')\n",
        "\n",
        "# Limit the dataset to the first 300,000 ratings\n",
        "data_df = data_df.head(300000)\n",
        "\n",
        "# Define the reader\n",
        "reader = Reader(rating_scale=(1, 5))\n",
        "\n",
        "# Load the dataset\n",
        "data = Dataset.load_from_df(data_df[['user_id', 'book_id', 'rating']], reader)\n",
        "\n",
        "# Train-test split\n",
        "trainset, testset = train_test_split(data, test_size=0.2)\n",
        "\n",
        "# Train the model\n",
        "model = KNNBasic()\n",
        "model.fit(trainset)\n",
        "\n",
        "# Predict ratings for the test set\n",
        "predictions = model.test(testset)\n",
        "\n",
        "# Calculate RMSE and MAE\n",
        "rmse = accuracy.rmse(predictions)\n",
        "mae = accuracy.mae(predictions)\n",
        "\n",
        "print(\"RMSE:\", rmse)\n",
        "print(\"MAE:\", mae)\n",
        "\n",
        "# Predict ratings for a specific user\n",
        "user_id = '5461'\n",
        "predictions = []\n",
        "for item_id in range(1, 1001):  # Assuming you have 1000 products\n",
        "    predicted_rating = model.predict(user_id, str(item_id)).est\n",
        "    predictions.append((item_id, predicted_rating))\n",
        "\n",
        "# Sort the predictions by rating in descending order\n",
        "predictions.sort(key=lambda x: x[1], reverse=True)\n",
        "\n",
        "# Get the top N recommendations\n",
        "top_n = 10\n",
        "recommended_items = predictions[:top_n]\n",
        "\n",
        "# Print the recommendations\n",
        "print(f\"Top {top_n} recommended items for user {user_id}:\")\n",
        "for item_id, rating in recommended_items:\n",
        "    print(f\"Product ID: {item_id}, Rating: {rating}\")"
      ],
      "metadata": {
        "colab": {
          "base_uri": "https://localhost:8080/"
        },
        "id": "sO2lZptUbzHg",
        "outputId": "bad9da4c-6182-44fc-a666-ac641eb4912a"
      },
      "execution_count": null,
      "outputs": [
        {
          "output_type": "stream",
          "name": "stdout",
          "text": [
            "Computing the msd similarity matrix...\n",
            "Done computing similarity matrix.\n",
            "RMSE: 0.9216\n",
            "MAE:  0.7242\n",
            "RMSE: 0.9215776901623961\n",
            "MAE: 0.7242288345549429\n",
            "Top 10 recommended items for user 5461:\n",
            "Product ID: 1, Rating: 3.832145833333333\n",
            "Product ID: 2, Rating: 3.832145833333333\n",
            "Product ID: 3, Rating: 3.832145833333333\n",
            "Product ID: 4, Rating: 3.832145833333333\n",
            "Product ID: 5, Rating: 3.832145833333333\n",
            "Product ID: 6, Rating: 3.832145833333333\n",
            "Product ID: 7, Rating: 3.832145833333333\n",
            "Product ID: 8, Rating: 3.832145833333333\n",
            "Product ID: 9, Rating: 3.832145833333333\n",
            "Product ID: 10, Rating: 3.832145833333333\n"
          ]
        }
      ]
    },
    {
      "cell_type": "code",
      "source": [
        "import pandas as pd\n",
        "from surprise import Dataset, Reader, KNNBasic\n",
        "from surprise.model_selection import train_test_split\n",
        "from surprise import accuracy\n",
        "\n",
        "# Read the CSV file\n",
        "data_df = pd.read_csv('/content/book_ratings.csv')\n",
        "\n",
        "# Limit the dataset to the first 400,000 ratings\n",
        "data_df = data_df.head(400000)\n",
        "\n",
        "# Define the reader\n",
        "reader = Reader(rating_scale=(1, 5))\n",
        "\n",
        "# Load the dataset\n",
        "data = Dataset.load_from_df(data_df[['user_id', 'book_id', 'rating']], reader)\n",
        "\n",
        "# Train-test split\n",
        "trainset, testset = train_test_split(data, test_size=0.2)\n",
        "\n",
        "# Train the model\n",
        "model = KNNBasic()\n",
        "model.fit(trainset)\n",
        "\n",
        "# Predict ratings for the test set\n",
        "predictions = model.test(testset)\n",
        "\n",
        "# Calculate RMSE and MAE\n",
        "rmse = accuracy.rmse(predictions)\n",
        "mae = accuracy.mae(predictions)\n",
        "\n",
        "print(\"RMSE:\", rmse)\n",
        "print(\"MAE:\", mae)\n",
        "\n",
        "# Predict ratings for a specific user\n",
        "user_id = '5461'\n",
        "predictions = []\n",
        "for item_id in range(1, 1001):  # Assuming you have 1000 products\n",
        "    predicted_rating = model.predict(user_id, str(item_id)).est\n",
        "    predictions.append((item_id, predicted_rating))\n",
        "\n",
        "# Sort the predictions by rating in descending order\n",
        "predictions.sort(key=lambda x: x[1], reverse=True)\n",
        "\n",
        "# Get the top N recommendations\n",
        "top_n = 10\n",
        "recommended_items = predictions[:top_n]\n",
        "\n",
        "# Print the recommendations\n",
        "print(f\"Top {top_n} recommended items for user {user_id}:\")\n",
        "for item_id, rating in recommended_items:\n",
        "    print(f\"Product ID: {item_id}, Rating: {rating}\")"
      ],
      "metadata": {
        "id": "ZrjagwpfcCI4"
      },
      "execution_count": null,
      "outputs": []
    },
    {
      "cell_type": "markdown",
      "source": [
        "With 4 lakhs (400,000) values facing memory or performance issues"
      ],
      "metadata": {
        "id": "V-ICwIgHdEnB"
      }
    },
    {
      "cell_type": "markdown",
      "source": [
        "**Random Forest**"
      ],
      "metadata": {
        "id": "va1woMBMEE0Y"
      }
    },
    {
      "cell_type": "code",
      "source": [
        "import pandas as pd\n",
        "from sklearn.model_selection import train_test_split\n",
        "from sklearn.ensemble import RandomForestRegressor\n",
        "\n",
        "# Load the dataset\n",
        "# Replace 'your_dataset.csv' with the actual path to your dataset file\n",
        "data = pd.read_csv('/content/book_ratings.csv')\n",
        "\n",
        "# Take only the first 100,000 entries\n",
        "data = data.head(100000)\n",
        "\n",
        "# Preprocess the data if needed\n",
        "\n",
        "# Split the data into features (X) and target (y)\n",
        "X = data[['user_id', 'book_id']]\n",
        "y = data['rating']\n",
        "\n",
        "# Split the data into training and testing sets (80% training, 20% testing)\n",
        "X_train, X_test, y_train, y_test = train_test_split(X, y, test_size=0.2, random_state=42)\n",
        "\n",
        "# Train the Random Forest model\n",
        "rf_model = RandomForestRegressor(n_estimators=100, random_state=42)\n",
        "rf_model.fit(X_train, y_train)\n",
        "\n",
        "# Make predictions for the given user ID (5461)\n",
        "user_id = 5461\n",
        "\n",
        "# Get unique book IDs for the given user\n",
        "user_book_ids = data[data['user_id'] == user_id]['book_id'].unique()\n",
        "\n",
        "# Create a DataFrame with user ID and book ID combinations\n",
        "user_data = pd.DataFrame({'user_id': [user_id] * len(user_book_ids), 'book_id': user_book_ids})\n",
        "\n",
        "# Make predictions for the user data\n",
        "user_predictions = rf_model.predict(user_data)\n",
        "\n",
        "# Combine book IDs and their corresponding predicted ratings\n",
        "book_ratings = pd.DataFrame({'book_id': user_book_ids, 'rating': user_predictions})\n",
        "\n",
        "# Sort the recommendations by rating in descending order\n",
        "top_recommendations = book_ratings.sort_values('rating', ascending=False).head(10)\n",
        "\n",
        "print(f\"Top 10 recommended items for user {user_id}:\")\n",
        "for _, row in top_recommendations.iterrows():\n",
        "    print(f\"Book ID: {row['book_id']}, Rating: {row['rating']}\")\n",
        "\n",
        "# Evaluate the model on the test set\n",
        "y_pred = rf_model.predict(X_test)\n",
        "rmse = mean_squared_error(y_test, y_pred, squared=False)\n",
        "mae = mean_absolute_error(y_test, y_pred)\n",
        "\n",
        "print(f\"RMSE: {rmse}\")\n",
        "print(f\"MAE:  {mae}\")\n",
        "\n"
      ],
      "metadata": {
        "colab": {
          "base_uri": "https://localhost:8080/"
        },
        "id": "rjfDSU4nBb1J",
        "outputId": "a1e1d360-92f4-420a-edad-ce9a43c5cc45"
      },
      "execution_count": null,
      "outputs": [
        {
          "output_type": "stream",
          "name": "stdout",
          "text": [
            "Top 10 recommended items for user 5461:\n",
            "Book ID: 131.0, Rating: 4.98\n",
            "Book ID: 129.0, Rating: 4.97\n",
            "Book ID: 65.0, Rating: 4.97\n",
            "Book ID: 66.0, Rating: 4.97\n",
            "Book ID: 323.0, Rating: 4.95\n",
            "Book ID: 130.0, Rating: 4.95\n",
            "Book ID: 321.0, Rating: 4.94\n",
            "Book ID: 118.0, Rating: 4.92\n",
            "Book ID: 117.0, Rating: 4.91\n",
            "Book ID: 93.0, Rating: 4.91\n",
            "RMSE: 1.0237975895109903\n",
            "MAE:  0.7907252781746031\n"
          ]
        }
      ]
    },
    {
      "cell_type": "code",
      "source": [
        "import pandas as pd\n",
        "from sklearn.model_selection import train_test_split\n",
        "from sklearn.ensemble import RandomForestRegressor\n",
        "\n",
        "# Load the dataset\n",
        "# Replace 'your_dataset.csv' with the actual path to your dataset file\n",
        "data = pd.read_csv('/content/book_ratings.csv')\n",
        "\n",
        "# Take only the first 200,000 entries\n",
        "data = data.head(200000)\n",
        "\n",
        "# Preprocess the data if needed\n",
        "\n",
        "# Split the data into features (X) and target (y)\n",
        "X = data[['user_id', 'book_id']]\n",
        "y = data['rating']\n",
        "\n",
        "# Split the data into training and testing sets (80% training, 20% testing)\n",
        "X_train, X_test, y_train, y_test = train_test_split(X, y, test_size=0.2, random_state=42)\n",
        "\n",
        "# Train the Random Forest model\n",
        "rf_model = RandomForestRegressor(n_estimators=100, random_state=42)\n",
        "rf_model.fit(X_train, y_train)\n",
        "\n",
        "# Make predictions for the given user ID (5461)\n",
        "user_id = 5461\n",
        "\n",
        "# Get unique book IDs for the given user\n",
        "user_book_ids = data[data['user_id'] == user_id]['book_id'].unique()\n",
        "\n",
        "# Create a DataFrame with user ID and book ID combinations\n",
        "user_data = pd.DataFrame({'user_id': [user_id] * len(user_book_ids), 'book_id': user_book_ids})\n",
        "\n",
        "# Make predictions for the user data\n",
        "user_predictions = rf_model.predict(user_data)\n",
        "\n",
        "# Combine book IDs and their corresponding predicted ratings\n",
        "book_ratings = pd.DataFrame({'book_id': user_book_ids, 'rating': user_predictions})\n",
        "\n",
        "# Sort the recommendations by rating in descending order\n",
        "top_recommendations = book_ratings.sort_values('rating', ascending=False).head(10)\n",
        "\n",
        "print(f\"Top 10 recommended items for user {user_id}:\")\n",
        "for _, row in top_recommendations.iterrows():\n",
        "    print(f\"Book ID: {row['book_id']}, Rating: {row['rating']}\")\n",
        "\n",
        "# Evaluate the model on the test set\n",
        "y_pred = rf_model.predict(X_test)\n",
        "rmse = mean_squared_error(y_test, y_pred, squared=False)\n",
        "mae = mean_absolute_error(y_test, y_pred)\n",
        "\n",
        "print(f\"RMSE: {rmse}\")\n",
        "print(f\"MAE:  {mae}\")"
      ],
      "metadata": {
        "colab": {
          "base_uri": "https://localhost:8080/"
        },
        "id": "gVXwGXlzB4pA",
        "outputId": "6ebbe89f-c22b-464b-fa28-5b1ded729fcf"
      },
      "execution_count": null,
      "outputs": [
        {
          "output_type": "stream",
          "name": "stdout",
          "text": [
            "Top 10 recommended items for user 5461:\n",
            "Book ID: 66.0, Rating: 4.97\n",
            "Book ID: 65.0, Rating: 4.97\n",
            "Book ID: 321.0, Rating: 4.93\n",
            "Book ID: 117.0, Rating: 4.92\n",
            "Book ID: 70.0, Rating: 4.92\n",
            "Book ID: 60.0, Rating: 4.92\n",
            "Book ID: 118.0, Rating: 4.9\n",
            "Book ID: 323.0, Rating: 4.9\n",
            "Book ID: 86.0, Rating: 4.89\n",
            "Book ID: 131.0, Rating: 4.87\n",
            "RMSE: 1.0116084086503625\n",
            "MAE:  0.7845042601190475\n"
          ]
        }
      ]
    },
    {
      "cell_type": "code",
      "source": [
        "import pandas as pd\n",
        "from sklearn.model_selection import train_test_split\n",
        "from sklearn.ensemble import RandomForestRegressor\n",
        "\n",
        "# Load the dataset\n",
        "# Replace 'your_dataset.csv' with the actual path to your dataset file\n",
        "data = pd.read_csv('/content/book_ratings.csv')\n",
        "\n",
        "# Take only the first 300,000 entries\n",
        "data = data.head(300000)\n",
        "\n",
        "# Preprocess the data if needed\n",
        "\n",
        "# Split the data into features (X) and target (y)\n",
        "X = data[['user_id', 'book_id']]\n",
        "y = data['rating']\n",
        "\n",
        "# Split the data into training and testing sets (80% training, 20% testing)\n",
        "X_train, X_test, y_train, y_test = train_test_split(X, y, test_size=0.2, random_state=42)\n",
        "\n",
        "# Train the Random Forest model\n",
        "rf_model = RandomForestRegressor(n_estimators=100, random_state=42)\n",
        "rf_model.fit(X_train, y_train)\n",
        "\n",
        "# Make predictions for the given user ID (5461)\n",
        "user_id = 5461\n",
        "\n",
        "# Get unique book IDs for the given user\n",
        "user_book_ids = data[data['user_id'] == user_id]['book_id'].unique()\n",
        "\n",
        "# Create a DataFrame with user ID and book ID combinations\n",
        "user_data = pd.DataFrame({'user_id': [user_id] * len(user_book_ids), 'book_id': user_book_ids})\n",
        "\n",
        "# Make predictions for the user data\n",
        "user_predictions = rf_model.predict(user_data)\n",
        "\n",
        "# Combine book IDs and their corresponding predicted ratings\n",
        "book_ratings = pd.DataFrame({'book_id': user_book_ids, 'rating': user_predictions})\n",
        "\n",
        "# Sort the recommendations by rating in descending order\n",
        "top_recommendations = book_ratings.sort_values('rating', ascending=False).head(10)\n",
        "\n",
        "print(f\"Top 10 recommended items for user {user_id}:\")\n",
        "for _, row in top_recommendations.iterrows():\n",
        "    print(f\"Book ID: {row['book_id']}, Rating: {row['rating']}\")\n",
        "\n",
        "# Evaluate the model on the test set\n",
        "y_pred = rf_model.predict(X_test)\n",
        "rmse = mean_squared_error(y_test, y_pred, squared=False)\n",
        "mae = mean_absolute_error(y_test, y_pred)\n",
        "\n",
        "print(f\"RMSE: {rmse}\")\n",
        "print(f\"MAE:  {mae}\")"
      ],
      "metadata": {
        "colab": {
          "base_uri": "https://localhost:8080/"
        },
        "id": "ZjofsPxUCTVK",
        "outputId": "9dd2f45c-6177-4821-ef10-bcf0a8131550"
      },
      "execution_count": null,
      "outputs": [
        {
          "output_type": "stream",
          "name": "stdout",
          "text": [
            "Top 10 recommended items for user 5461:\n",
            "Book ID: 66.0, Rating: 4.97\n",
            "Book ID: 65.0, Rating: 4.96\n",
            "Book ID: 323.0, Rating: 4.93\n",
            "Book ID: 131.0, Rating: 4.93\n",
            "Book ID: 93.0, Rating: 4.93\n",
            "Book ID: 386.0, Rating: 4.93\n",
            "Book ID: 321.0, Rating: 4.9\n",
            "Book ID: 60.0, Rating: 4.9\n",
            "Book ID: 136.0, Rating: 4.9\n",
            "Book ID: 130.0, Rating: 4.9\n",
            "RMSE: 0.9915193164043218\n",
            "MAE:  0.7726979851190476\n"
          ]
        }
      ]
    },
    {
      "cell_type": "code",
      "source": [
        "import pandas as pd\n",
        "from sklearn.model_selection import train_test_split\n",
        "from sklearn.ensemble import RandomForestRegressor\n",
        "\n",
        "# Load the dataset\n",
        "# Replace 'your_dataset.csv' with the actual path to your dataset file\n",
        "data = pd.read_csv('/content/book_ratings.csv')\n",
        "\n",
        "# Take only the first 400,000 entries\n",
        "data = data.head(400000)\n",
        "\n",
        "# Preprocess the data if needed\n",
        "\n",
        "# Split the data into features (X) and target (y)\n",
        "X = data[['user_id', 'book_id']]\n",
        "y = data['rating']\n",
        "\n",
        "# Split the data into training and testing sets (80% training, 20% testing)\n",
        "X_train, X_test, y_train, y_test = train_test_split(X, y, test_size=0.2, random_state=42)\n",
        "\n",
        "# Train the Random Forest model\n",
        "rf_model = RandomForestRegressor(n_estimators=100, random_state=42)\n",
        "rf_model.fit(X_train, y_train)\n",
        "\n",
        "# Make predictions for the given user ID (5461)\n",
        "user_id = 5461\n",
        "\n",
        "# Get unique book IDs for the given user\n",
        "user_book_ids = data[data['user_id'] == user_id]['book_id'].unique()\n",
        "\n",
        "# Create a DataFrame with user ID and book ID combinations\n",
        "user_data = pd.DataFrame({'user_id': [user_id] * len(user_book_ids), 'book_id': user_book_ids})\n",
        "\n",
        "# Make predictions for the user data\n",
        "user_predictions = rf_model.predict(user_data)\n",
        "\n",
        "# Combine book IDs and their corresponding predicted ratings\n",
        "book_ratings = pd.DataFrame({'book_id': user_book_ids, 'rating': user_predictions})\n",
        "\n",
        "# Sort the recommendations by rating in descending order\n",
        "top_recommendations = book_ratings.sort_values('rating', ascending=False).head(10)\n",
        "\n",
        "print(f\"Top 10 recommended items for user {user_id}:\")\n",
        "for _, row in top_recommendations.iterrows():\n",
        "    print(f\"Book ID: {row['book_id']}, Rating: {row['rating']}\")\n",
        "\n",
        "# Evaluate the model on the test set\n",
        "y_pred = rf_model.predict(X_test)\n",
        "rmse = mean_squared_error(y_test, y_pred, squared=False)\n",
        "mae = mean_absolute_error(y_test, y_pred)\n",
        "\n",
        "print(f\"RMSE: {rmse}\")\n",
        "print(f\"MAE:  {mae}\")"
      ],
      "metadata": {
        "colab": {
          "base_uri": "https://localhost:8080/"
        },
        "id": "OG2OSztICsBd",
        "outputId": "7fc7e1f0-98e5-4d83-aa66-fd369feea287"
      },
      "execution_count": null,
      "outputs": [
        {
          "output_type": "stream",
          "name": "stdout",
          "text": [
            "Top 10 recommended items for user 5461:\n",
            "Book ID: 28.0, Rating: 4.96\n",
            "Book ID: 323.0, Rating: 4.95\n",
            "Book ID: 66.0, Rating: 4.94\n",
            "Book ID: 321.0, Rating: 4.92\n",
            "Book ID: 65.0, Rating: 4.89\n",
            "Book ID: 60.0, Rating: 4.84\n",
            "Book ID: 19.0, Rating: 4.83\n",
            "Book ID: 22.0, Rating: 4.83\n",
            "Book ID: 416.0, Rating: 4.8\n",
            "Book ID: 32.0, Rating: 4.79\n",
            "RMSE: 0.9907922475828553\n",
            "MAE:  0.7744522829365079\n"
          ]
        }
      ]
    },
    {
      "cell_type": "code",
      "source": [
        "import pandas as pd\n",
        "from sklearn.model_selection import train_test_split\n",
        "from sklearn.ensemble import RandomForestRegressor\n",
        "\n",
        "# Load the dataset\n",
        "# Replace 'your_dataset.csv' with the actual path to your dataset file\n",
        "data = pd.read_csv('/content/book_ratings.csv')\n",
        "\n",
        "# Take only the first 500,000 entries\n",
        "data = data.head(500000)\n",
        "\n",
        "# Preprocess the data if needed\n",
        "\n",
        "# Split the data into features (X) and target (y)\n",
        "X = data[['user_id', 'book_id']]\n",
        "y = data['rating']\n",
        "\n",
        "# Split the data into training and testing sets (80% training, 20% testing)\n",
        "X_train, X_test, y_train, y_test = train_test_split(X, y, test_size=0.2, random_state=42)\n",
        "\n",
        "# Train the Random Forest model\n",
        "rf_model = RandomForestRegressor(n_estimators=100, random_state=42)\n",
        "rf_model.fit(X_train, y_train)\n",
        "\n",
        "# Make predictions for the given user ID (5461)\n",
        "user_id = 5461\n",
        "\n",
        "# Get unique book IDs for the given user\n",
        "user_book_ids = data[data['user_id'] == user_id]['book_id'].unique()\n",
        "\n",
        "# Create a DataFrame with user ID and book ID combinations\n",
        "user_data = pd.DataFrame({'user_id': [user_id] * len(user_book_ids), 'book_id': user_book_ids})\n",
        "\n",
        "# Make predictions for the user data\n",
        "user_predictions = rf_model.predict(user_data)\n",
        "\n",
        "# Combine book IDs and their corresponding predicted ratings\n",
        "book_ratings = pd.DataFrame({'book_id': user_book_ids, 'rating': user_predictions})\n",
        "\n",
        "# Sort the recommendations by rating in descending order\n",
        "top_recommendations = book_ratings.sort_values('rating', ascending=False).head(10)\n",
        "\n",
        "print(f\"Top 10 recommended items for user {user_id}:\")\n",
        "for _, row in top_recommendations.iterrows():\n",
        "    print(f\"Book ID: {row['book_id']}, Rating: {row['rating']}\")\n",
        "\n",
        "# Evaluate the model on the test set\n",
        "y_pred = rf_model.predict(X_test)\n",
        "rmse = mean_squared_error(y_test, y_pred, squared=False)\n",
        "mae = mean_absolute_error(y_test, y_pred)\n",
        "\n",
        "print(f\"RMSE: {rmse}\")\n",
        "print(f\"MAE:  {mae}\")"
      ],
      "metadata": {
        "id": "Akk3jzd2DgR9"
      },
      "execution_count": null,
      "outputs": []
    },
    {
      "cell_type": "markdown",
      "source": [
        "With 5 lakhs (500,000) values facing memory or performance issues"
      ],
      "metadata": {
        "id": "26vfcie1EAza"
      }
    },
    {
      "cell_type": "markdown",
      "source": [
        "**Decision Tree**"
      ],
      "metadata": {
        "id": "95k38yOoGSdY"
      }
    },
    {
      "cell_type": "code",
      "source": [
        "pip install scikit-learn\n"
      ],
      "metadata": {
        "colab": {
          "base_uri": "https://localhost:8080/"
        },
        "id": "VsuHlZ8ZELcF",
        "outputId": "cb772ce5-cdac-4207-9ee1-e6ee91d468c1"
      },
      "execution_count": null,
      "outputs": [
        {
          "output_type": "stream",
          "name": "stdout",
          "text": [
            "Requirement already satisfied: scikit-learn in /usr/local/lib/python3.10/dist-packages (1.2.2)\n",
            "Requirement already satisfied: numpy>=1.17.3 in /usr/local/lib/python3.10/dist-packages (from scikit-learn) (1.22.4)\n",
            "Requirement already satisfied: scipy>=1.3.2 in /usr/local/lib/python3.10/dist-packages (from scikit-learn) (1.10.1)\n",
            "Requirement already satisfied: joblib>=1.1.1 in /usr/local/lib/python3.10/dist-packages (from scikit-learn) (1.3.1)\n",
            "Requirement already satisfied: threadpoolctl>=2.0.0 in /usr/local/lib/python3.10/dist-packages (from scikit-learn) (3.1.0)\n"
          ]
        }
      ]
    },
    {
      "cell_type": "code",
      "source": [
        "import pandas as pd\n",
        "from sklearn.model_selection import train_test_split\n",
        "from sklearn.tree import DecisionTreeRegressor\n",
        "from sklearn.metrics import mean_squared_error, mean_absolute_error\n",
        "\n",
        "# Load the dataset\n",
        "df = pd.read_csv('/content/book_ratings.csv')\n",
        "\n",
        "# Prepare the data\n",
        "X = df_subset[['user_id']]  # Features: user_id\n",
        "y = df_subset['rating']    # Target: rating\n",
        "\n",
        "# Split the data into training and testing sets\n",
        "X_train, X_test, y_train, y_test = train_test_split(X, y, test_size=0.2, random_state=42)\n",
        "\n",
        "# Build the decision tree model\n",
        "model = DecisionTreeRegressor()\n",
        "model.fit(X_train, y_train)\n",
        "\n",
        "# Make predictions for a given user ID\n",
        "user_id = 5461\n",
        "prediction = model.predict([[user_id]])\n",
        "\n",
        "# Get the top 10 recommended items\n",
        "user_df = df[df['user_id'] == user_id]\n",
        "recommended_items = user_df.groupby('book_id')['rating'].mean().reset_index()\n",
        "recommended_items = recommended_items.sort_values(by='rating', ascending=False).head(10)\n",
        "\n",
        "# Calculate RMSE and MAE for the test set\n",
        "y_pred = model.predict(X_test)\n",
        "rmse = mean_squared_error(y_test, y_pred, squared=False)\n",
        "mae = mean_absolute_error(y_test, y_pred)\n",
        "\n",
        "# Print the results\n",
        "print(\"Top 10 recommended items for user\", user_id, \":\")\n",
        "for index, row in recommended_items.iterrows():\n",
        "    print(\"Book ID:\", row['book_id'], \", Rating:\", row['rating'])\n",
        "print(\"RMSE:\", rmse)\n",
        "print(\"MAE:\", mae)\n"
      ],
      "metadata": {
        "colab": {
          "base_uri": "https://localhost:8080/"
        },
        "id": "PBOy9J5yF9Va",
        "outputId": "85946e0b-93f5-467f-a197-ac99585e3082"
      },
      "execution_count": null,
      "outputs": [
        {
          "output_type": "stream",
          "name": "stdout",
          "text": [
            "Top 10 recommended items for user 5461 :\n",
            "Book ID: 444.0 , Rating: 5.0\n",
            "Book ID: 401.0 , Rating: 5.0\n",
            "Book ID: 386.0 , Rating: 5.0\n",
            "Book ID: 339.0 , Rating: 5.0\n",
            "Book ID: 3293.0 , Rating: 5.0\n",
            "Book ID: 321.0 , Rating: 5.0\n",
            "Book ID: 296.0 , Rating: 5.0\n",
            "Book ID: 265.0 , Rating: 5.0\n",
            "Book ID: 264.0 , Rating: 5.0\n",
            "Book ID: 251.0 , Rating: 5.0\n",
            "RMSE: 0.8930747537097193\n",
            "MAE: 0.6881008294169821\n"
          ]
        },
        {
          "output_type": "stream",
          "name": "stderr",
          "text": [
            "/usr/local/lib/python3.10/dist-packages/sklearn/base.py:439: UserWarning: X does not have valid feature names, but DecisionTreeRegressor was fitted with feature names\n",
            "  warnings.warn(\n"
          ]
        }
      ]
    },
    {
      "cell_type": "markdown",
      "source": [
        "EXECUTION TIME FOR COLLABORATIVE FILTERING IN PYHTON"
      ],
      "metadata": {
        "id": "SF3IqKOqqAPV"
      }
    },
    {
      "cell_type": "code",
      "source": [
        "import time\n",
        "import pandas as pd\n",
        "from surprise import Dataset, Reader, KNNBasic\n",
        "from surprise.model_selection import train_test_split\n",
        "from surprise import accuracy\n",
        "\n",
        "# Read the CSV file\n",
        "data_df = pd.read_csv('/content/book_ratings.csv')\n",
        "\n",
        "# Limit the dataset to the first 300,000 ratings\n",
        "data_df = data_df.head(300000)\n",
        "\n",
        "# Define the reader\n",
        "reader = Reader(rating_scale=(1, 5))\n",
        "\n",
        "# Load the dataset\n",
        "data = Dataset.load_from_df(data_df[['user_id', 'book_id', 'rating']], reader)\n",
        "\n",
        "# Train-test split\n",
        "start_time = time.time()\n",
        "trainset, testset = train_test_split(data, test_size=0.2)\n",
        "end_time = time.time()\n",
        "split_execution_time = end_time - start_time\n",
        "\n",
        "# Train the model\n",
        "start_time = time.time()\n",
        "model = KNNBasic()\n",
        "model.fit(trainset)\n",
        "end_time = time.time()\n",
        "training_execution_time = end_time - start_time\n",
        "\n",
        "# Predict ratings for the test set\n",
        "start_time = time.time()\n",
        "predictions = model.test(testset)\n",
        "end_time = time.time()\n",
        "prediction_execution_time = end_time - start_time\n",
        "\n",
        "# Calculate RMSE and MAE\n",
        "start_time = time.time()\n",
        "rmse = accuracy.rmse(predictions)\n",
        "mae = accuracy.mae(predictions)\n",
        "end_time = time.time()\n",
        "evaluation_execution_time = end_time - start_time\n",
        "\n",
        "# Predict ratings for a specific user\n",
        "user_id = '5461'\n",
        "start_time = time.time()\n",
        "predictions = []\n",
        "for item_id in range(1, 1001):  # Assuming you have 1000 products\n",
        "    predicted_rating = model.predict(user_id, str(item_id)).est\n",
        "    predictions.append((item_id, predicted_rating))\n",
        "end_time = time.time()\n",
        "prediction_user_execution_time = end_time - start_time\n",
        "\n",
        "# Print the execution times\n",
        "print(\"Train-test Split Execution Time: {:.2f} seconds\".format(split_execution_time))\n",
        "print(\"Model Training Execution Time: {:.2f} seconds\".format(training_execution_time))\n",
        "print(\"Prediction Execution Time: {:.2f} seconds\".format(prediction_execution_time))\n",
        "print(\"Evaluation Execution Time: {:.2f} seconds\".format(evaluation_execution_time))\n",
        "print(\"Prediction for User Execution Time: {:.2f} seconds\".format(prediction_user_execution_time))\n"
      ],
      "metadata": {
        "colab": {
          "base_uri": "https://localhost:8080/"
        },
        "id": "kIxPBoBrqfRE",
        "outputId": "fc9c2f32-95aa-4f5c-8434-42c5ef54daf2"
      },
      "execution_count": null,
      "outputs": [
        {
          "output_type": "stream",
          "name": "stdout",
          "text": [
            "Computing the msd similarity matrix...\n",
            "Done computing similarity matrix.\n",
            "RMSE: 0.9143\n",
            "MAE:  0.7201\n",
            "Train-test Split Execution Time: 0.61 seconds\n",
            "Model Training Execution Time: 28.84 seconds\n",
            "Prediction Execution Time: 9.15 seconds\n",
            "Evaluation Execution Time: 0.08 seconds\n",
            "Prediction for User Execution Time: 0.14 seconds\n"
          ]
        }
      ]
    },
    {
      "cell_type": "markdown",
      "source": [
        "EXECUTION TIME FOR RANDOM FOREST IN PYTHON"
      ],
      "metadata": {
        "id": "7LfdmrKtrsqY"
      }
    },
    {
      "cell_type": "code",
      "source": [
        "import time\n",
        "import pandas as pd\n",
        "from sklearn.model_selection import train_test_split\n",
        "from sklearn.ensemble import RandomForestRegressor\n",
        "from sklearn.metrics import mean_squared_error, mean_absolute_error\n",
        "\n",
        "# Load the dataset\n",
        "# Replace 'your_dataset.csv' with the actual path to your dataset file\n",
        "data = pd.read_csv('/content/book_ratings.csv')\n",
        "\n",
        "# Take only the first 400,000 entries\n",
        "data = data.head(400000)\n",
        "\n",
        "# Preprocess the data if needed\n",
        "\n",
        "# Split the data into features (X) and target (y)\n",
        "X = data[['user_id', 'book_id']]\n",
        "y = data['rating']\n",
        "\n",
        "# Split the data into training and testing sets (80% training, 20% testing)\n",
        "start_time = time.time()\n",
        "X_train, X_test, y_train, y_test = train_test_split(X, y, test_size=0.2, random_state=42)\n",
        "end_time = time.time()\n",
        "split_execution_time = end_time - start_time\n",
        "\n",
        "# Train the Random Forest model\n",
        "start_time = time.time()\n",
        "rf_model = RandomForestRegressor(n_estimators=100, random_state=42)\n",
        "rf_model.fit(X_train, y_train)\n",
        "end_time = time.time()\n",
        "training_execution_time = end_time - start_time\n",
        "\n",
        "# Make predictions for the given user ID (5461)\n",
        "user_id = 5461\n",
        "\n",
        "# Get unique book IDs for the given user\n",
        "user_book_ids = data[data['user_id'] == user_id]['book_id'].unique()\n",
        "\n",
        "# Create a DataFrame with user ID and book ID combinations\n",
        "user_data = pd.DataFrame({'user_id': [user_id] * len(user_book_ids), 'book_id': user_book_ids})\n",
        "\n",
        "# Make predictions for the user data\n",
        "start_time = time.time()\n",
        "user_predictions = rf_model.predict(user_data)\n",
        "end_time = time.time()\n",
        "prediction_user_execution_time = end_time - start_time\n",
        "\n",
        "# Evaluate the model on the test set\n",
        "start_time = time.time()\n",
        "y_pred = rf_model.predict(X_test)\n",
        "end_time = time.time()\n",
        "prediction_execution_time = end_time - start_time\n",
        "\n",
        "# Print the execution times\n",
        "print(\"Train-Test Split Execution Time: {:.2f} seconds\".format(split_execution_time))\n",
        "print(\"Model Training Execution Time: {:.2f} seconds\".format(training_execution_time))\n",
        "print(\"Prediction for User Execution Time: {:.2f} seconds\".format(prediction_user_execution_time))\n",
        "print(\"Prediction Execution Time: {:.2f} seconds\".format(prediction_execution_time))\n"
      ],
      "metadata": {
        "colab": {
          "base_uri": "https://localhost:8080/"
        },
        "id": "uRCgszCWqgym",
        "outputId": "003bc1fa-e389-4097-b137-edf491222082"
      },
      "execution_count": null,
      "outputs": [
        {
          "output_type": "stream",
          "name": "stdout",
          "text": [
            "Train-Test Split Execution Time: 0.13 seconds\n",
            "Model Training Execution Time: 167.56 seconds\n",
            "Prediction for User Execution Time: 0.01 seconds\n",
            "Prediction Execution Time: 5.80 seconds\n"
          ]
        }
      ]
    },
    {
      "cell_type": "markdown",
      "source": [
        "EXECUTION TIME FOR DECISION TREE IN PYTHON"
      ],
      "metadata": {
        "id": "J1Xmc-a5sY2w"
      }
    },
    {
      "cell_type": "code",
      "source": [
        "import time\n",
        "import pandas as pd\n",
        "from sklearn.model_selection import train_test_split\n",
        "from sklearn.tree import DecisionTreeRegressor\n",
        "from sklearn.metrics import mean_squared_error, mean_absolute_error\n",
        "\n",
        "# Load the dataset\n",
        "df = pd.read_csv('/content/book_ratings.csv')\n",
        "\n",
        "# Prepare the data\n",
        "X = df[['user_id']]  # Features: user_id\n",
        "y = df['rating']    # Target: rating\n",
        "\n",
        "# Split the data into training and testing sets\n",
        "start_time = time.time()\n",
        "X_train, X_test, y_train, y_test = train_test_split(X, y, test_size=0.2, random_state=42)\n",
        "end_time = time.time()\n",
        "split_execution_time = end_time - start_time\n",
        "\n",
        "# Build the decision tree model\n",
        "start_time = time.time()\n",
        "model = DecisionTreeRegressor()\n",
        "model.fit(X_train, y_train)\n",
        "end_time = time.time()\n",
        "model_execution_time = end_time - start_time\n",
        "\n",
        "# Make predictions for a given user ID\n",
        "start_time = time.time()\n",
        "user_id = 5461\n",
        "prediction = model.predict([[user_id]])\n",
        "end_time = time.time()\n",
        "prediction_execution_time = end_time - start_time\n",
        "\n",
        "# Get the top 10 recommended items\n",
        "start_time = time.time()\n",
        "user_df = df[df['user_id'] == user_id]\n",
        "recommended_items = user_df.groupby('book_id')['rating'].mean().reset_index()\n",
        "recommended_items = recommended_items.sort_values(by='rating', ascending=False).head(10)\n",
        "end_time = time.time()\n",
        "recommendation_execution_time = end_time - start_time\n",
        "\n",
        "# Calculate RMSE and MAE for the test set\n",
        "start_time = time.time()\n",
        "y_pred = model.predict(X_test)\n",
        "end_time = time.time()\n",
        "evaluation_execution_time = end_time - start_time\n",
        "\n",
        "rmse = mean_squared_error(y_test, y_pred, squared=False)\n",
        "mae = mean_absolute_error(y_test, y_pred)\n",
        "\n",
        "# Print the execution times\n",
        "print(\"Train-Test Split Execution Time: {:.2f} seconds\".format(split_execution_time))\n",
        "print(\"Model Training Execution Time: {:.2f} seconds\".format(model_execution_time))\n",
        "print(\"Prediction Execution Time: {:.2f} seconds\".format(prediction_execution_time))\n",
        "print(\"Recommendation Execution Time: {:.2f} seconds\".format(recommendation_execution_time))\n",
        "print(\"Evaluation Execution Time: {:.2f} seconds\".format(evaluation_execution_time))\n"
      ],
      "metadata": {
        "colab": {
          "base_uri": "https://localhost:8080/"
        },
        "id": "Db07ra1Ss9No",
        "outputId": "84ca369c-4c37-4cfa-e1d0-a4e519bca197"
      },
      "execution_count": null,
      "outputs": [
        {
          "output_type": "stream",
          "name": "stdout",
          "text": [
            "Train-Test Split Execution Time: 0.15 seconds\n",
            "Model Training Execution Time: 5.79 seconds\n",
            "Prediction Execution Time: 0.00 seconds\n",
            "Recommendation Execution Time: 0.02 seconds\n",
            "Evaluation Execution Time: 0.09 seconds\n"
          ]
        },
        {
          "output_type": "stream",
          "name": "stderr",
          "text": [
            "/usr/local/lib/python3.10/dist-packages/sklearn/base.py:439: UserWarning: X does not have valid feature names, but DecisionTreeRegressor was fitted with feature names\n",
            "  warnings.warn(\n"
          ]
        }
      ]
    },
    {
      "cell_type": "code",
      "source": [
        "import matplotlib.pyplot as plt\n",
        "\n",
        "# Common execution stages for collaborative filtering\n",
        "common_cf_stages = ['Model Training', 'Prediction']\n",
        "\n",
        "# Execution times for collaborative filtering in PySpark\n",
        "pyspark_cf_data = {\n",
        "    'Model Training': 14.17,\n",
        "    'Prediction': 0.14\n",
        "}\n",
        "\n",
        "# Execution times for collaborative filtering in Python\n",
        "python_cf_data = {\n",
        "    'Model Training': 28.84,\n",
        "    'Prediction': 9.15\n",
        "}\n",
        "\n",
        "# Common execution stages for random forest\n",
        "common_rf_stages = ['Model Training', 'Prediction']\n",
        "\n",
        "# Execution times for random forest in PySpark\n",
        "pyspark_rf_data = {\n",
        "    'Model Training': 27.09,\n",
        "    'Prediction': 0.24\n",
        "}\n",
        "\n",
        "# Execution times for random forest in Python\n",
        "python_rf_data = {\n",
        "    'Model Training': 167.56,\n",
        "    'Prediction': 5.80\n",
        "}\n",
        "\n",
        "# Common execution stages for decision tree\n",
        "common_dt_stages = ['Model Training', 'Prediction']\n",
        "\n",
        "# Execution times for decision tree in PySpark\n",
        "pyspark_dt_data = {\n",
        "    'Model Training': 15.81,\n",
        "    'Prediction': 0.75\n",
        "}\n",
        "\n",
        "# Execution times for decision tree in Python\n",
        "python_dt_data = {\n",
        "    'Model Training': 25.79,\n",
        "    'Prediction': 2.00\n",
        "}\n",
        "\n",
        "# Function to create a grouped bar graph\n",
        "def create_grouped_bar_graph(data1, data2, title):\n",
        "    labels = list(data1.keys())\n",
        "    times1 = list(data1.values())\n",
        "    times2 = list(data2.values())\n",
        "\n",
        "    x = range(len(labels))\n",
        "    width = 0.35\n",
        "\n",
        "    fig, ax = plt.subplots()\n",
        "    rects1 = ax.bar(x, times1, width, label='PySpark')\n",
        "    rects2 = ax.bar([i + width for i in x], times2, width, label='Python')\n",
        "\n",
        "    ax.set_title(title)\n",
        "    ax.set_xlabel('Execution Stage')\n",
        "    ax.set_ylabel('Execution Time (seconds)')\n",
        "    ax.set_xticks([i + width / 2 for i in x])\n",
        "    ax.set_xticklabels(labels)\n",
        "    ax.legend()\n",
        "\n",
        "    plt.show()\n",
        "\n",
        "# Create grouped bar graph for collaborative filtering\n",
        "create_grouped_bar_graph(pyspark_cf_data, python_cf_data, 'Collaborative Filtering Execution Time Comparison')\n",
        "\n",
        "# Create grouped bar graph for random forest\n",
        "create_grouped_bar_graph(pyspark_rf_data, python_rf_data, 'Random Forest Execution Time Comparison')\n",
        "\n",
        "# Create grouped bar graph for decision tree\n",
        "create_grouped_bar_graph(pyspark_dt_data, python_dt_data, 'Decision Tree Execution Time Comparison')\n"
      ],
      "metadata": {
        "colab": {
          "base_uri": "https://localhost:8080/",
          "height": 1000
        },
        "id": "j-gO9bo3vA7b",
        "outputId": "eb2fa881-45c3-4b30-d019-4e08ffe2fe12"
      },
      "execution_count": null,
      "outputs": [
        {
          "output_type": "display_data",
          "data": {
            "text/plain": [
              "<Figure size 640x480 with 1 Axes>"
            ],
            "image/png": "[encoded data removed]"
          },
          "metadata": {}
        },
        {
          "output_type": "display_data",
          "data": {
            "text/plain": [
              "<Figure size 640x480 with 1 Axes>"
            ],
            "image/png": "[encoded data removed]"
          },
          "metadata": {}
        },
        {
          "output_type": "display_data",
          "data": {
            "text/plain": [
              "<Figure size 640x480 with 1 Axes>"
            ],
            "image/png": "[encoded data removed]"
          },
          "metadata": {}
        }
      ]
    }
  ],
  "metadata": {
    "colab": {
      "provenance": []
    },
    "kernelspec": {
      "display_name": "Python 3",
      "name": "python3"
    },
    "language_info": {
      "name": "python"
    }
  },
  "nbformat": 4,
  "nbformat_minor": 0
}