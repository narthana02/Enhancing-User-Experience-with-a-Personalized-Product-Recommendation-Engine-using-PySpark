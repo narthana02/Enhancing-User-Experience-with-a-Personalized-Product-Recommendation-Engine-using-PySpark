{
  "cells": [
    {
      "cell_type": "markdown",
      "metadata": {
        "id": "BtA9dsQChTGD"
      },
      "source": [
        "**Recommender System using Pyspark**"
      ]
    },
    {
      "cell_type": "code",
      "execution_count": null,
      "metadata": {
        "colab": {
          "base_uri": "https://localhost:8080/"
        },
        "id": "WBbV1kG6GCYu",
        "outputId": "ef2dc648-1f8e-449d-b282-e00720355828"
      },
      "outputs": [
        {
          "output_type": "stream",
          "name": "stdout",
          "text": [
            "\r0% [Working]\r            \rGet:1 http://security.ubuntu.com/ubuntu focal-security InRelease [114 kB]\n",
            "\r0% [Connecting to archive.ubuntu.com (185.125.190.39)] [1 InRelease 14.2 kB/114\r                                                                               \rGet:2 https://cloud.r-project.org/bin/linux/ubuntu focal-cran40/ InRelease [3,622 B]\n",
            "\r0% [Connecting to archive.ubuntu.com (185.125.190.39)] [1 InRelease 47.5 kB/114\r0% [Connecting to archive.ubuntu.com (185.125.190.39)] [1 InRelease 114 kB/114 \r0% [Connecting to archive.ubuntu.com (185.125.190.39)] [Connecting to ppa.launc\r                                                                               \rGet:3 https://developer.download.nvidia.com/compute/cuda/repos/ubuntu2004/x86_64  InRelease [1,581 B]\n",
            "\r                                                                               \r0% [Waiting for headers] [Waiting for headers]\r                                              \rHit:4 http://archive.ubuntu.com/ubuntu focal InRelease\n",
            "Hit:5 http://ppa.launchpad.net/c2d4u.team/c2d4u4.0+/ubuntu focal InRelease\n",
            "Get:6 http://archive.ubuntu.com/ubuntu focal-updates InRelease [114 kB]\n",
            "Hit:7 http://ppa.launchpad.net/cran/libgit2/ubuntu focal InRelease\n",
            "Get:8 http://security.ubuntu.com/ubuntu focal-security/multiverse amd64 Packages [29.3 kB]\n",
            "Get:9 http://security.ubuntu.com/ubuntu focal-security/main amd64 Packages [2,866 kB]\n",
            "Get:10 http://security.ubuntu.com/ubuntu focal-security/universe amd64 Packages [1,072 kB]\n",
            "Hit:11 http://ppa.launchpad.net/deadsnakes/ppa/ubuntu focal InRelease\n",
            "Get:12 http://security.ubuntu.com/ubuntu focal-security/restricted amd64 Packages [2,536 kB]\n",
            "Get:13 https://developer.download.nvidia.com/compute/cuda/repos/ubuntu2004/x86_64  Packages [1,083 kB]\n",
            "Get:14 http://archive.ubuntu.com/ubuntu focal-backports InRelease [108 kB]\n",
            "Hit:15 http://ppa.launchpad.net/graphics-drivers/ppa/ubuntu focal InRelease\n",
            "Hit:16 http://ppa.launchpad.net/ubuntugis/ppa/ubuntu focal InRelease\n",
            "Get:17 http://archive.ubuntu.com/ubuntu focal-updates/universe amd64 Packages [1,371 kB]\n",
            "Get:18 http://archive.ubuntu.com/ubuntu focal-updates/main amd64 Packages [3,346 kB]\n",
            "Get:19 http://archive.ubuntu.com/ubuntu focal-updates/multiverse amd64 Packages [32.0 kB]\n",
            "Get:20 http://archive.ubuntu.com/ubuntu focal-updates/restricted amd64 Packages [2,677 kB]\n",
            "Fetched 15.4 MB in 2s (6,716 kB/s)\n",
            "Reading package lists... Done\n"
          ]
        }
      ],
      "source": [
        "!apt-get update\n",
        "# Download Java Virtual Machine (JVM)\n",
        "!apt-get install openjdk-8-jdk-headless -qq > /dev/null"
      ]
    },
    {
      "cell_type": "code",
      "execution_count": null,
      "metadata": {
        "id": "N97SJpzoGGGR"
      },
      "outputs": [],
      "source": [
        "# Download Spark\n",
        "!wget -q https://archive.apache.org/dist/spark/spark-3.2.1/spark-3.2.1-bin-hadoop3.2.tgz\n",
        "# Unzip the file\n",
        "!tar xf spark-3.2.1-bin-hadoop3.2.tgz"
      ]
    },
    {
      "cell_type": "code",
      "execution_count": null,
      "metadata": {
        "id": "TfwDLRMJGQVi"
      },
      "outputs": [],
      "source": [
        "!pip install -q findspark"
      ]
    },
    {
      "cell_type": "code",
      "execution_count": null,
      "metadata": {
        "id": "Nlh3eje2GUTf"
      },
      "outputs": [],
      "source": [
        "import os\n",
        "os.environ[\"JAVA_HOME\"] = \"/usr/lib/jvm/java-8-openjdk-amd64\"\n",
        "os.environ[\"SPARK_HOME\"] = '/content/spark-3.2.1-bin-hadoop3.2'"
      ]
    },
    {
      "cell_type": "code",
      "execution_count": null,
      "metadata": {
        "colab": {
          "base_uri": "https://localhost:8080/"
        },
        "id": "0gvp_QFHGYsM",
        "outputId": "e64b7ab5-0aa4-4cf2-d28a-9f2e25a588fc"
      },
      "outputs": [
        {
          "output_type": "stream",
          "name": "stdout",
          "text": [
            "book_ratings.csv  spark-3.2.1-bin-hadoop3.2\n",
            "sample_data\t  spark-3.2.1-bin-hadoop3.2.tgz\n"
          ]
        }
      ],
      "source": [
        "!ls"
      ]
    },
    {
      "cell_type": "code",
      "execution_count": null,
      "metadata": {
        "id": "eiYmraQaGaLU"
      },
      "outputs": [],
      "source": [
        "import findspark\n",
        "findspark.init()"
      ]
    },
    {
      "cell_type": "code",
      "execution_count": null,
      "metadata": {
        "colab": {
          "base_uri": "https://localhost:8080/",
          "height": 36
        },
        "id": "kJU4k3k4GeuB",
        "outputId": "cddd0072-6383-4f62-c009-7a84148f3eb6"
      },
      "outputs": [
        {
          "output_type": "execute_result",
          "data": {
            "text/plain": [
              "'/content/spark-3.2.1-bin-hadoop3.2'"
            ],
            "application/vnd.google.colaboratory.intrinsic+json": {
              "type": "string"
            }
          },
          "metadata": {},
          "execution_count": 7
        }
      ],
      "source": [
        "# Check the location for Spark\n",
        "findspark.find()"
      ]
    },
    {
      "cell_type": "code",
      "execution_count": null,
      "metadata": {
        "colab": {
          "base_uri": "https://localhost:8080/",
          "height": 219
        },
        "id": "orgDyiWNgPVK",
        "outputId": "afcf709b-48aa-4c48-f86a-987dbae33b4e"
      },
      "outputs": [
        {
          "output_type": "execute_result",
          "data": {
            "text/plain": [
              "<pyspark.sql.session.SparkSession at 0x7fb4dbca2a10>"
            ],
            "text/html": [
              "\n",
              "            <div>\n",
              "                <p><b>SparkSession - in-memory</b></p>\n",
              "                \n",
              "        <div>\n",
              "            <p><b>SparkContext</b></p>\n",
              "\n",
              "            <p><a href=\"http://da9b4c2e4523:4040\">Spark UI</a></p>\n",
              "\n",
              "            <dl>\n",
              "              <dt>Version</dt>\n",
              "                <dd><code>v3.2.1</code></dd>\n",
              "              <dt>Master</dt>\n",
              "                <dd><code>local[*]</code></dd>\n",
              "              <dt>AppName</dt>\n",
              "                <dd><code>Recommender</code></dd>\n",
              "            </dl>\n",
              "        </div>\n",
              "        \n",
              "            </div>\n",
              "        "
            ]
          },
          "metadata": {},
          "execution_count": 8
        }
      ],
      "source": [
        "#importing the required pyspark library\n",
        "from pyspark.sql import SparkSession\n",
        "from pyspark.ml.evaluation import RegressionEvaluator\n",
        "from pyspark.ml.recommendation import ALS\n",
        "\n",
        "#Setup Spark Session\n",
        "spark = SparkSession.builder.appName('Recommender').getOrCreate()\n",
        "spark\n"
      ]
    },
    {
      "cell_type": "code",
      "source": [
        "from pyspark.sql import SparkSession\n",
        "\n",
        "# Create a SparkSession\n",
        "spark = SparkSession.builder.getOrCreate()\n",
        "\n",
        "# Load your DataFrame from a source\n",
        "df = spark.read.csv(\"/content/book_ratings.csv\", header=True, inferSchema=True)\n",
        "\n",
        "# Count the number of rows using map-reduce\n",
        "num_rows = df.rdd.map(lambda row: 1).reduce(lambda a, b: a + b)\n",
        "\n",
        "# Get the column names\n",
        "column_names = df.columns\n",
        "\n",
        "# Count the number of columns\n",
        "num_columns = len(column_names)\n",
        "\n",
        "# Print the results\n",
        "print(\"Number of rows:\", num_rows)\n",
        "print(\"Number of columns:\", num_columns)\n"
      ],
      "metadata": {
        "colab": {
          "base_uri": "https://localhost:8080/"
        },
        "id": "Q6MixsK_nzd8",
        "outputId": "84d5fbb8-320b-43bd-a2a8-3e50f9645d48"
      },
      "execution_count": null,
      "outputs": [
        {
          "output_type": "stream",
          "name": "stdout",
          "text": [
            "Number of rows: 981756\n",
            "Number of columns: 3\n"
          ]
        }
      ]
    },
    {
      "cell_type": "code",
      "execution_count": null,
      "metadata": {
        "colab": {
          "base_uri": "https://localhost:8080/"
        },
        "id": "fQEwZNcYgUih",
        "outputId": "9bf35039-279d-4534-f1f7-d328baf97273"
      },
      "outputs": [
        {
          "output_type": "stream",
          "name": "stdout",
          "text": [
            "Total number of ratings: 981756\n",
            "Average rating: 3.8565335989797873\n",
            "Maximum rating: 5\n",
            "Minimum rating: 1\n",
            "+-------+-------+------+\n",
            "|book_id|user_id|rating|\n",
            "+-------+-------+------+\n",
            "|      1|    314|     5|\n",
            "|      1|    439|     3|\n",
            "|      1|    588|     5|\n",
            "|      1|   1169|     4|\n",
            "|      1|   1185|     4|\n",
            "+-------+-------+------+\n",
            "only showing top 5 rows\n",
            "\n"
          ]
        }
      ],
      "source": [
        "# Count the total number of ratings\n",
        "total_ratings = df.rdd.map(lambda row: 1).reduce(lambda a, b: a + b)\n",
        "\n",
        "# Calculate the average rating\n",
        "total_sum = df.rdd.map(lambda row: row['rating']).reduce(lambda a, b: a + b)\n",
        "average_rating = total_sum / total_ratings\n",
        "\n",
        "# Find the maximum and minimum ratings\n",
        "max_rating = df.rdd.map(lambda row: row['rating']).reduce(lambda a, b: max(a, b))\n",
        "min_rating = df.rdd.map(lambda row: row['rating']).reduce(lambda a, b: min(a, b))\n",
        "\n",
        "# Print the results\n",
        "print(\"Total number of ratings:\", total_ratings)\n",
        "print(\"Average rating:\", average_rating)\n",
        "print(\"Maximum rating:\", max_rating)\n",
        "print(\"Minimum rating:\", min_rating)\n",
        "\n",
        "df.show(5)\n"
      ]
    },
    {
      "cell_type": "code",
      "source": [
        "from pyspark.sql import SparkSession\n",
        "import matplotlib.pyplot as plt\n"
      ],
      "metadata": {
        "id": "_WxY_NKyWK3g"
      },
      "execution_count": null,
      "outputs": []
    },
    {
      "cell_type": "code",
      "source": [
        "# Count the frequency of each rating\n",
        "rating_counts = df.rdd.map(lambda row: (row['rating'], 1)).reduceByKey(lambda a, b: a + b).collect()\n",
        "\n",
        "# Extract the rating values and their corresponding counts\n",
        "ratings = [rating[0] for rating in rating_counts]\n",
        "counts = [rating[1] for rating in rating_counts]\n",
        "\n",
        "# Visualize the ratings distribution\n",
        "plt.bar(ratings, counts)\n",
        "plt.xlabel('Rating')\n",
        "plt.ylabel('Count')\n",
        "plt.title('Ratings Distribution')\n",
        "plt.show()"
      ],
      "metadata": {
        "colab": {
          "base_uri": "https://localhost:8080/",
          "height": 472
        },
        "id": "CQ4qX1552iKJ",
        "outputId": "965f4214-14cc-4b55-80ae-d32d125a6c91"
      },
      "execution_count": null,
      "outputs": [
        {
          "output_type": "display_data",
          "data": {
            "text/plain": [
              "<Figure size 640x480 with 1 Axes>"
            ],
            "image/png": "[encoded data removed]"
          },
          "metadata": {}
        }
      ]
    },
    {
      "cell_type": "code",
      "source": [
        "# Map each user ID to a count of purchases\n",
        "user_purchases = df.rdd.map(lambda row: (row['user_id'], 1)).reduceByKey(lambda a, b: a + b)\n",
        "\n",
        "# Find the user with the maximum purchases\n",
        "most_purchased_user = user_purchases.max(lambda x: x[1])\n",
        "\n",
        "# Print the result\n",
        "print(\"User with the most purchases:\", most_purchased_user[0])\n",
        "print(\"Number of purchases:\", most_purchased_user[1])"
      ],
      "metadata": {
        "colab": {
          "base_uri": "https://localhost:8080/"
        },
        "id": "y8yxGigS28Lk",
        "outputId": "83e76ecd-cf4a-4e9d-a0e2-d0cea17c746a"
      },
      "execution_count": null,
      "outputs": [
        {
          "output_type": "stream",
          "name": "stdout",
          "text": [
            "User with the most purchases: 12874\n",
            "Number of purchases: 200\n"
          ]
        }
      ]
    },
    {
      "cell_type": "code",
      "source": [
        "# Map each product ID to a count of purchases\n",
        "product_purchases = df.rdd.map(lambda row: (row['book_id'], 1)).reduceByKey(lambda a, b: a + b)\n",
        "\n",
        "# Find the product with the maximum purchases\n",
        "most_purchased_product = product_purchases.max(lambda x: x[1])\n",
        "\n",
        "# Print the result\n",
        "print(\"Most purchased product:\", most_purchased_product[0])\n",
        "print(\"Number of purchases:\", most_purchased_product[1])"
      ],
      "metadata": {
        "colab": {
          "base_uri": "https://localhost:8080/"
        },
        "id": "WMVYgEYZ3CKQ",
        "outputId": "368edf2c-812f-44a9-b81b-76b8c5f8fe97"
      },
      "execution_count": null,
      "outputs": [
        {
          "output_type": "stream",
          "name": "stdout",
          "text": [
            "Most purchased product: 2\n",
            "Number of purchases: 100\n"
          ]
        }
      ]
    },
    {
      "cell_type": "code",
      "source": [
        "# Map each product ID to its average rating\n",
        "product_ratings = df.rdd.map(lambda row: (row['book_id'], (row['rating'], 1))) \\\n",
        "    .reduceByKey(lambda a, b: (a[0] + b[0], a[1] + b[1])) \\\n",
        "    .mapValues(lambda x: x[0] / x[1])\n",
        "\n",
        "# Sort the products by average rating in descending order\n",
        "sorted_products = product_ratings.sortBy(lambda x: x[1], ascending=False)\n",
        "\n",
        "# Get the top 5 products\n",
        "top_5_products = sorted_products.take(5)\n",
        "\n",
        "# Print the result\n",
        "print(\"Top 5 products with the highest ratings:\")\n",
        "for product in top_5_products:\n",
        "    print(\"Product:\", product[0])\n",
        "    print(\"Average Rating:\", product[1])\n",
        "    print()"
      ],
      "metadata": {
        "colab": {
          "base_uri": "https://localhost:8080/"
        },
        "id": "IYCGXHaU3s-e",
        "outputId": "36e5f7b9-73eb-419b-fe88-9dc346b65612"
      },
      "execution_count": null,
      "outputs": [
        {
          "output_type": "stream",
          "name": "stdout",
          "text": [
            "Top 5 products with the highest ratings:\n",
            "Product: 7947\n",
            "Average Rating: 4.820224719101123\n",
            "\n",
            "Product: 6920\n",
            "Average Rating: 4.78\n",
            "\n",
            "Product: 5207\n",
            "Average Rating: 4.78\n",
            "\n",
            "Product: 9566\n",
            "Average Rating: 4.777777777777778\n",
            "\n",
            "Product: 8946\n",
            "Average Rating: 4.774193548387097\n",
            "\n"
          ]
        }
      ]
    },
    {
      "cell_type": "code",
      "source": [
        "# Map each product ID to a count of purchases\n",
        "product_purchases = df.rdd.map(lambda row: (row['book_id'], 1)).reduceByKey(lambda a, b: a + b)\n",
        "\n",
        "# Sort the products by purchase count in descending order\n",
        "sorted_products = product_purchases.sortBy(lambda x: x[1], ascending=False)\n",
        "\n",
        "# Get the top 5 products\n",
        "top_5_products = sorted_products.take(5)\n",
        "\n",
        "# Print the result\n",
        "print(\"Top 5 products with the most purchases:\")\n",
        "for product in top_5_products:\n",
        "    print(\"Product:\", product[0])\n",
        "    print(\"Number of Purchases:\", product[1])\n",
        "    print()\n",
        "\n",
        "\n"
      ],
      "metadata": {
        "colab": {
          "base_uri": "https://localhost:8080/"
        },
        "id": "f_BrjcgG39oz",
        "outputId": "69cd2490-cde6-4119-f9bb-4d42fe1cd884"
      },
      "execution_count": null,
      "outputs": [
        {
          "output_type": "stream",
          "name": "stdout",
          "text": [
            "Top 5 products with the most purchases:\n",
            "Product: 2\n",
            "Number of Purchases: 100\n",
            "\n",
            "Product: 4\n",
            "Number of Purchases: 100\n",
            "\n",
            "Product: 6\n",
            "Number of Purchases: 100\n",
            "\n",
            "Product: 8\n",
            "Number of Purchases: 100\n",
            "\n",
            "Product: 10\n",
            "Number of Purchases: 100\n",
            "\n"
          ]
        }
      ]
    },
    {
      "cell_type": "code",
      "source": [
        "# Map each customer ID to a count of purchases\n",
        "customer_purchases = df.rdd.map(lambda row: (row['user_id'], 1)).reduceByKey(lambda a, b: a + b)\n",
        "\n",
        "# Sort the customers by purchase count in descending order\n",
        "sorted_customers = customer_purchases.sortBy(lambda x: x[1], ascending=False)\n",
        "\n",
        "# Get the top 5 customers\n",
        "top_5_customers = sorted_customers.take(5)\n",
        "\n",
        "# Print the result\n",
        "print(\"Top 5 customers with the highest number of purchases:\")\n",
        "for customer in top_5_customers:\n",
        "    print(\"Customer:\", customer[0])\n",
        "    print(\"Number of Purchases:\", customer[1])\n",
        "    print()"
      ],
      "metadata": {
        "colab": {
          "base_uri": "https://localhost:8080/"
        },
        "id": "4DtIoFhQ4XiX",
        "outputId": "d26433e0-1a00-4aea-b700-7f12a87d1709"
      },
      "execution_count": null,
      "outputs": [
        {
          "output_type": "stream",
          "name": "stdout",
          "text": [
            "Top 5 customers with the highest number of purchases:\n",
            "Customer: 12874\n",
            "Number of Purchases: 200\n",
            "\n",
            "Customer: 30944\n",
            "Number of Purchases: 200\n",
            "\n",
            "Customer: 28158\n",
            "Number of Purchases: 199\n",
            "\n",
            "Customer: 52036\n",
            "Number of Purchases: 199\n",
            "\n",
            "Customer: 12381\n",
            "Number of Purchases: 199\n",
            "\n"
          ]
        }
      ]
    },
    {
      "cell_type": "code",
      "source": [
        "from pyspark.sql import SparkSession\n",
        "from pyspark.sql.functions import col, sum"
      ],
      "metadata": {
        "id": "5wrRqEvj4vjR"
      },
      "execution_count": null,
      "outputs": []
    },
    {
      "cell_type": "code",
      "source": [
        "# Check for null values in the DataFrame\n",
        "null_counts = df.select([sum(col(column).isNull().cast(\"int\")).alias(column) for column in df.columns])\n",
        "\n",
        "# Display the null value counts\n",
        "null_counts.show()"
      ],
      "metadata": {
        "colab": {
          "base_uri": "https://localhost:8080/"
        },
        "id": "j_WW249c4ymz",
        "outputId": "b002e5ad-e7e0-41af-8c51-1fd689f9ed80"
      },
      "execution_count": null,
      "outputs": [
        {
          "output_type": "stream",
          "name": "stdout",
          "text": [
            "+-------+-------+------+\n",
            "|book_id|user_id|rating|\n",
            "+-------+-------+------+\n",
            "|      0|      0|     0|\n",
            "+-------+-------+------+\n",
            "\n"
          ]
        }
      ]
    }
  ],
  "metadata": {
    "colab": {
      "provenance": []
    },
    "kernelspec": {
      "display_name": "Python 3",
      "name": "python3"
    },
    "language_info": {
      "name": "python"
    }
  },
  "nbformat": 4,
  "nbformat_minor": 0
}